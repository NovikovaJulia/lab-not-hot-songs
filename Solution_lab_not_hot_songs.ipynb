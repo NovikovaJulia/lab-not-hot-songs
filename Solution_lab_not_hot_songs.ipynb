{
 "cells": [
  {
   "cell_type": "markdown",
   "id": "877411f6",
   "metadata": {},
   "source": [
    "<h1>Lab | Not hot songs</h1>"
   ]
  },
  {
   "cell_type": "markdown",
   "id": "c4918105",
   "metadata": {},
   "source": [
    "**Introduction**\n",
    "\n",
    "Now that you have scrapped the website Billboard to create a hot_songs dataset, it's time to prepare a new dataset of not_hot_songs. This dataset can contain songs of your choice, others collected from the web or any other combination. Some sources of songs can be:\n",
    "- Wikipedia\n",
    "- Subset of million songs dataset Note: this dataset takes several GB of disk space!!!\n",
    "- Kaggle\n",
    "\n",
    "**Considerations**\n",
    "\n",
    "You want your dataset of not_hot_song to be:\n",
    "\n",
    "- As heterogeneous in terms of (genre, length,...etc) as possible to create better groups of songs.\n",
    "- Not too big and not too small (typically around 2-3K) songs\n",
    "\n",
    "In a real-life scenario, you might want to have your dataset as biggest as possible and use specialized Big Data techniques like PySpark to group similar songs together. However, you are going to work on your own laptop which has limited power. Therefore, you need to limit the size of your dataset of not_hot_songs otherwise the process of grouping similar songs will take forever.\n",
    "\n",
    "**Deliverables**\n",
    "\n",
    "Your fork should contain a jupyter notebook with the code to:\n",
    "\n",
    "**Gather the songs**\n",
    "\n",
    "Remove songs already present in the hot_songs dataset"
   ]
  },
  {
   "cell_type": "markdown",
   "id": "4a39c2d3",
   "metadata": {},
   "source": [
    "<h2>Part 1. Previous lab</h2>"
   ]
  },
  {
   "cell_type": "code",
   "execution_count": 1,
   "id": "9185fdec",
   "metadata": {},
   "outputs": [],
   "source": [
    "# importing libraries\n",
    "\n",
    "import requests\n",
    "from bs4 import BeautifulSoup\n",
    "import pandas as pd\n",
    "import numpy as np"
   ]
  },
  {
   "cell_type": "code",
   "execution_count": 2,
   "id": "e68d7ac4",
   "metadata": {},
   "outputs": [
    {
     "name": "stdout",
     "output_type": "stream",
     "text": [
      "200\n"
     ]
    }
   ],
   "source": [
    "# find url and store it in a variable\n",
    "url = \"https://www.billboard.com/charts/hot-100/\"\n",
    "\n",
    "# download html with a get request\n",
    "response = requests.get(url)\n",
    "\n",
    "print(response.status_code) # 200 status code means OK!"
   ]
  },
  {
   "cell_type": "code",
   "execution_count": 3,
   "id": "02ea05c9",
   "metadata": {},
   "outputs": [],
   "source": [
    "# parsing html (create the 'soup')\n",
    "soup = BeautifulSoup(response.text, 'html.parser')\n",
    "# print(soup.prettify())"
   ]
  },
  {
   "cell_type": "code",
   "execution_count": 4,
   "id": "f92adb69",
   "metadata": {},
   "outputs": [
    {
     "data": {
      "text/plain": [
       "100"
      ]
     },
     "execution_count": 4,
     "metadata": {},
     "output_type": "execute_result"
    }
   ],
   "source": [
    "num_iter = len(soup.select(\"li.o-chart-results-list__item > h3\"))\n",
    "num_iter"
   ]
  },
  {
   "cell_type": "code",
   "execution_count": 5,
   "id": "d0df950f",
   "metadata": {},
   "outputs": [
    {
     "name": "stdout",
     "output_type": "stream",
     "text": [
      "Lift Me Up\n",
      "Unholy\n",
      "Bad Habit\n",
      "As It Was\n",
      "Lavender Haze\n",
      "Midnight Rain\n",
      "I Like You (A Happier Song)\n",
      "Bejeweled\n",
      "Super Freaky Girl\n",
      "Shirt\n",
      "Maroon\n",
      "I Ain't Worried\n",
      "You Proof\n",
      "I'm Good (Blue)\n",
      "Snow On The Beach\n",
      "Karma\n",
      "Vegas\n",
      "Sunroof\n",
      "You're On Your Own, Kid\n",
      "Under The Influence\n",
      "Wasted On You\n",
      "In My Head\n",
      "Vigilante Shit\n",
      "Jimmy Cooks\n",
      "Thriller\n",
      "Die For You\n",
      "Wait For U\n",
      "Something In The Orange\n",
      "Titi Me Pregunto\n",
      "Cuff It\n",
      "Question...?\n",
      "About Damn Time\n",
      "Late Night Talking\n",
      "Tomorrow 2\n",
      "The Kind Of Love We Make\n",
      "She Had Me At Heads Carolina\n",
      "Mastermind\n",
      "Unstoppable\n",
      "Hold Me Closer\n",
      "Me Porto Bonito\n",
      "Labyrinth\n",
      "Thank God\n",
      "5 Foot 9\n",
      "Sweet Nothing\n",
      "Golden Hour\n",
      "Monster Mash\n",
      "Just Wanna Rock\n",
      "Ghostbusters\n",
      "Fall In Love\n",
      "The Astronaut\n",
      "Half Of Me\n",
      "Until I Found You\n",
      "Rock And A Hard Place\n",
      "California Breeze\n",
      "Victoria’s Secret\n",
      "Son Of A Sinner\n",
      "What My World Spins Around\n",
      "Would've, Could've, Should've\n",
      "Star Walkin' (League Of Legends Worlds Anthem)\n",
      "Heyy\n",
      "Music For A Sushi Restaurant\n",
      "Made You Look\n",
      "Forever\n",
      "Romantic Homicide\n",
      "Don't Come Lookin'\n",
      "Wishful Drinking\n",
      "Bigger Than The Whole Sky\n",
      "Free Mind\n",
      "No Se Va\n",
      "The Great War\n",
      "Billie Eilish.\n",
      "Paris\n",
      "Whiskey On You\n",
      "All Mine\n",
      "Wait In The Truck\n",
      "Monotonia\n",
      "Hotel Lobby (Unc And Phew)\n",
      "High Infidelity\n",
      "2 Be Loved (Am I Ready)\n",
      "Staying Alive\n",
      "Real Spill\n",
      "Last Last\n",
      "Miss You\n",
      "Never Hating\n",
      "Glitch\n",
      "Freestyle\n",
      "Calm Down\n",
      "Stand On It\n",
      "La Bachata\n",
      "Gotta Move On\n",
      "Ain't Safe\n",
      "Pick Me Up\n",
      "Betty (Get Money)\n",
      "Gatubela\n",
      "300 Blackout\n",
      "Dear Reader\n",
      "Country On\n",
      "Bzrp Music Sessions, Vol. 52\n",
      "Evergreen\n"
     ]
    }
   ],
   "source": [
    "# searching for the names of the songs and singer names\n",
    "\n",
    "for songs in soup.find_all(\"li\",{\"class\":\"o-chart-results-list__item // lrv-u-flex-grow-1 lrv-u-flex lrv-u-flex-direction-column lrv-u-justify-content-center lrv-u-border-b-1 u-border-b-0@mobile-max lrv-u-border-color-grey-light lrv-u-padding-l-050 lrv-u-padding-l-1@mobile-max\"}):\n",
    "    print(songs.find_all(\"h3\")[0].get_text().replace(\"\\t\",\"\").replace(\"\\n\",\"\"))"
   ]
  },
  {
   "cell_type": "code",
   "execution_count": 6,
   "id": "17439723",
   "metadata": {},
   "outputs": [
    {
     "name": "stdout",
     "output_type": "stream",
     "text": [
      "Rihanna\n",
      "Sam Smith & Kim Petras\n",
      "Steve Lacy\n",
      "Harry Styles\n",
      "Taylor Swift\n",
      "Taylor Swift\n",
      "Post Malone Featuring Doja Cat\n",
      "Taylor Swift\n",
      "Nicki Minaj\n",
      "SZA\n",
      "Taylor Swift\n",
      "OneRepublic\n",
      "Morgan Wallen\n",
      "David Guetta & Bebe Rexha\n",
      "Taylor Swift Featuring Lana Del Rey\n",
      "Taylor Swift\n",
      "Doja Cat\n",
      "Nicky Youre & dazy\n",
      "Taylor Swift\n",
      "Chris Brown\n",
      "Morgan Wallen\n",
      "Juice WRLD\n",
      "Taylor Swift\n",
      "Drake Featuring 21 Savage\n",
      "Michael Jackson\n",
      "The Weeknd\n",
      "Future Featuring Drake & Tems\n",
      "Zach Bryan\n",
      "Bad Bunny\n",
      "Beyonce\n",
      "Taylor Swift\n",
      "Lizzo\n",
      "Harry Styles\n",
      "GloRilla & Cardi B\n",
      "Luke Combs\n",
      "Cole Swindell\n",
      "Taylor Swift\n",
      "Sia\n",
      "Elton John & Britney Spears\n",
      "Bad Bunny & Chencho Corleone\n",
      "Taylor Swift\n",
      "Kane Brown With Katelyn Brown\n",
      "Tyler Hubbard\n",
      "Taylor Swift\n",
      "JVKE\n",
      "Bobby \"Boris\" Pickett And The Crypt-Kickers\n",
      "Lil Uzi Vert\n",
      "Ray Parker Jr.\n",
      "Bailey Zimmerman\n",
      "JIN\n",
      "Thomas Rhett Featuring Riley Green\n",
      "Stephen Sanchez\n",
      "Bailey Zimmerman\n",
      "Lil Baby\n",
      "Jax\n",
      "Jelly Roll\n",
      "Jordan Davis\n",
      "Taylor Swift\n",
      "Lil Nas X\n",
      "Lil Baby\n",
      "Harry Styles\n",
      "Meghan Trainor\n",
      "Lil Baby Featuring Fridayy\n",
      "d4vd\n",
      "Jackson Dean\n",
      "Ingrid Andress With Sam Hunt\n",
      "Taylor Swift\n",
      "Tems\n",
      "Grupo Frontera\n",
      "Taylor Swift\n",
      "Armani White\n",
      "Taylor Swift\n",
      "Nate Smith\n",
      "Brent Faiyaz\n",
      "HARDY Featuring Lainey Wilson\n",
      "Shakira + Ozuna\n",
      "Quavo & Takeoff\n",
      "Taylor Swift\n",
      "Lizzo\n",
      "DJ Khaled Featuring Drake & Lil Baby\n",
      "Lil Baby\n",
      "Burna Boy\n",
      "Oliver Tree & Robin Schulz\n",
      "Lil Baby & Young Thug\n",
      "Taylor Swift\n",
      "Lil Baby\n",
      "Rema & Selena Gomez\n",
      "Lil Baby\n",
      "Manuel Turizo\n",
      "Diddy & Bryson Tiller\n",
      "Trippie Redd & Don Toliver\n",
      "Gabby Barrett\n",
      "Yung Gravy\n",
      "Karol G x Maldy\n",
      "Kodak Black\n",
      "Taylor Swift\n",
      "Luke Bryan\n",
      "Bizarrap & Quevedo\n",
      "Omar Apollo\n"
     ]
    }
   ],
   "source": [
    "for songs in soup.find_all(\"li\",{\"class\":\"o-chart-results-list__item // lrv-u-flex-grow-1 lrv-u-flex lrv-u-flex-direction-column lrv-u-justify-content-center lrv-u-border-b-1 u-border-b-0@mobile-max lrv-u-border-color-grey-light lrv-u-padding-l-050 lrv-u-padding-l-1@mobile-max\"}):\n",
    "    print(songs.find_all(\"span\")[0].get_text().replace(\"\\t\",\"\").replace(\"\\n\",\"\"))"
   ]
  },
  {
   "cell_type": "code",
   "execution_count": 7,
   "id": "0c74f136",
   "metadata": {},
   "outputs": [
    {
     "name": "stdout",
     "output_type": "stream",
     "text": [
      "['\\n\\t\\n\\tTaylor Swift\\n']\n"
     ]
    }
   ],
   "source": [
    "song_name = soup.select('#post-1479786 > div.pmc-paywall > div > div > div > div > div > ul > li.lrv-u-width-100p > ul > li > span')[0]\n",
    "\n",
    "song_name = [text.get_text() for text in song_name]\n",
    "\n",
    "print(song_name)\n"
   ]
  },
  {
   "cell_type": "code",
   "execution_count": 8,
   "id": "1c01362c",
   "metadata": {},
   "outputs": [
    {
     "data": {
      "text/plain": [
       "<h3 class=\"c-title a-no-trucate a-font-primary-bold-s u-letter-spacing-0021 u-font-size-23@tablet lrv-u-font-size-16 u-line-height-125 u-line-height-normal@mobile-max a-truncate-ellipsis u-max-width-245 u-max-width-230@tablet-only u-letter-spacing-0028@tablet\" id=\"title-of-a-story\">\n",
       "\n",
       "\t\n",
       "\t\n",
       "\t\t\n",
       "\t\t\t\t\tAnti-Hero\t\t\n",
       "\t\n",
       "</h3>"
      ]
     },
     "execution_count": 8,
     "metadata": {},
     "output_type": "execute_result"
    }
   ],
   "source": [
    "soup.select('#post-1479786 > div.pmc-paywall > div > div > div > div > div > ul > li.lrv-u-width-100p > ul > li > h3')[0]\n"
   ]
  },
  {
   "cell_type": "code",
   "execution_count": 9,
   "id": "327d4a5e",
   "metadata": {},
   "outputs": [],
   "source": [
    "\n",
    "for songs in soup.find_all(\"li\",{\"class\":\"o-chart-results-list__item // lrv-u-flex-grow-1 lrv-u-flex lrv-u-flex-direction-column lrv-u-justify-content-center lrv-u-border-b-1 u-border-b-0@mobile-max lrv-u-border-color-grey-light  lrv-u-padding-l-1@mobile-max\"}):\n",
    "        print(songs.find_all(\"h3\")[0].get_text().replace(\"\\t\",\"\").replace(\"\\n\",\"\"))\n",
    "\n",
    "        print(songs.find_all(\"span\")[0].get_text().replace(\"\\t\",\"\").replace(\"\\n\",\"\"))\n"
   ]
  },
  {
   "cell_type": "code",
   "execution_count": 10,
   "id": "50aeecf8",
   "metadata": {},
   "outputs": [],
   "source": [
    "# Creating a function for web scraping\n",
    "\n",
    "def scrape_hot100():\n",
    "    url = \"https://www.billboard.com/charts/hot-100/\"\n",
    "    response = requests.get(url)\n",
    "    soup = BeautifulSoup(response.text, 'html.parser')\n",
    "    song_name = []\n",
    "    song_artist = []\n",
    "    first_name = soup.select('#post-1479786 > div.pmc-paywall > div > div > div > div > div > ul > li.lrv-u-width-100p > ul > li > h3')[0].get_text().replace(\"\\t\",\"\").replace(\"\\n\",\"\")\n",
    "    song_name.append(first_name)\n",
    "    first_artist = soup.select('#post-1479786 > div.pmc-paywall > div > div > div > div > div > ul > li.lrv-u-width-100p > ul > li > span')[0].get_text().replace(\"\\t\",\"\").replace(\"\\n\",\"\")\n",
    "    song_artist.append(first_artist)\n",
    "    for songs in soup.find_all(\"li\",{\"class\":\"o-chart-results-list__item // lrv-u-flex-grow-1 lrv-u-flex lrv-u-flex-direction-column lrv-u-justify-content-center lrv-u-border-b-1 u-border-b-0@mobile-max lrv-u-border-color-grey-light lrv-u-padding-l-050 lrv-u-padding-l-1@mobile-max\"}):\n",
    "        name=songs.find_all(\"h3\")[0].get_text().replace(\"\\t\",\"\").replace(\"\\n\",\"\")\n",
    "        song_name.append(name)\n",
    "        artist=songs.find_all(\"span\")[0].get_text().replace(\"\\t\",\"\").replace(\"\\n\",\"\")\n",
    "        song_artist.append(artist)\n",
    "    hot100=pd.DataFrame({\n",
    "    \"song_name\":song_name,\n",
    "    \"song_artist\":song_artist})\n",
    "    hot100.to_csv('hot100.csv', index=False)"
   ]
  },
  {
   "cell_type": "code",
   "execution_count": 11,
   "id": "a9037683",
   "metadata": {},
   "outputs": [],
   "source": [
    "scrape_hot100()"
   ]
  },
  {
   "cell_type": "markdown",
   "id": "92fe4266",
   "metadata": {},
   "source": [
    "Now we have a file 'hot100.csv' with 100 hot songs."
   ]
  },
  {
   "cell_type": "markdown",
   "id": "0554c4c4",
   "metadata": {},
   "source": [
    "<h2>Part 2. Not hot songs</h2>"
   ]
  },
  {
   "cell_type": "markdown",
   "id": "075ec038",
   "metadata": {},
   "source": [
    "We will use a dataset from Kaggle: \n",
    "https://www.kaggle.com/datasets/saurabhshahane/music-dataset-1950-to-2019"
   ]
  },
  {
   "cell_type": "code",
   "execution_count": 12,
   "id": "ddedc6be",
   "metadata": {},
   "outputs": [],
   "source": [
    "import pandas as pd"
   ]
  },
  {
   "cell_type": "code",
   "execution_count": 25,
   "id": "374a64dd",
   "metadata": {},
   "outputs": [
    {
     "data": {
      "text/html": [
       "<div>\n",
       "<style scoped>\n",
       "    .dataframe tbody tr th:only-of-type {\n",
       "        vertical-align: middle;\n",
       "    }\n",
       "\n",
       "    .dataframe tbody tr th {\n",
       "        vertical-align: top;\n",
       "    }\n",
       "\n",
       "    .dataframe thead th {\n",
       "        text-align: right;\n",
       "    }\n",
       "</style>\n",
       "<table border=\"1\" class=\"dataframe\">\n",
       "  <thead>\n",
       "    <tr style=\"text-align: right;\">\n",
       "      <th></th>\n",
       "      <th>Unnamed: 0</th>\n",
       "      <th>artist_name</th>\n",
       "      <th>track_name</th>\n",
       "      <th>release_date</th>\n",
       "      <th>genre</th>\n",
       "      <th>lyrics</th>\n",
       "      <th>len</th>\n",
       "      <th>dating</th>\n",
       "      <th>violence</th>\n",
       "      <th>world/life</th>\n",
       "      <th>...</th>\n",
       "      <th>sadness</th>\n",
       "      <th>feelings</th>\n",
       "      <th>danceability</th>\n",
       "      <th>loudness</th>\n",
       "      <th>acousticness</th>\n",
       "      <th>instrumentalness</th>\n",
       "      <th>valence</th>\n",
       "      <th>energy</th>\n",
       "      <th>topic</th>\n",
       "      <th>age</th>\n",
       "    </tr>\n",
       "  </thead>\n",
       "  <tbody>\n",
       "    <tr>\n",
       "      <th>0</th>\n",
       "      <td>0</td>\n",
       "      <td>mukesh</td>\n",
       "      <td>mohabbat bhi jhoothi</td>\n",
       "      <td>1950</td>\n",
       "      <td>pop</td>\n",
       "      <td>hold time feel break feel untrue convince spea...</td>\n",
       "      <td>95</td>\n",
       "      <td>0.000598</td>\n",
       "      <td>0.063746</td>\n",
       "      <td>0.000598</td>\n",
       "      <td>...</td>\n",
       "      <td>0.380299</td>\n",
       "      <td>0.117175</td>\n",
       "      <td>0.357739</td>\n",
       "      <td>0.454119</td>\n",
       "      <td>0.997992</td>\n",
       "      <td>0.901822</td>\n",
       "      <td>0.339448</td>\n",
       "      <td>0.137110</td>\n",
       "      <td>sadness</td>\n",
       "      <td>1.0</td>\n",
       "    </tr>\n",
       "    <tr>\n",
       "      <th>1</th>\n",
       "      <td>4</td>\n",
       "      <td>frankie laine</td>\n",
       "      <td>i believe</td>\n",
       "      <td>1950</td>\n",
       "      <td>pop</td>\n",
       "      <td>believe drop rain fall grow believe darkest ni...</td>\n",
       "      <td>51</td>\n",
       "      <td>0.035537</td>\n",
       "      <td>0.096777</td>\n",
       "      <td>0.443435</td>\n",
       "      <td>...</td>\n",
       "      <td>0.001284</td>\n",
       "      <td>0.001284</td>\n",
       "      <td>0.331745</td>\n",
       "      <td>0.647540</td>\n",
       "      <td>0.954819</td>\n",
       "      <td>0.000002</td>\n",
       "      <td>0.325021</td>\n",
       "      <td>0.263240</td>\n",
       "      <td>world/life</td>\n",
       "      <td>1.0</td>\n",
       "    </tr>\n",
       "    <tr>\n",
       "      <th>2</th>\n",
       "      <td>6</td>\n",
       "      <td>johnnie ray</td>\n",
       "      <td>cry</td>\n",
       "      <td>1950</td>\n",
       "      <td>pop</td>\n",
       "      <td>sweetheart send letter goodbye secret feel bet...</td>\n",
       "      <td>24</td>\n",
       "      <td>0.002770</td>\n",
       "      <td>0.002770</td>\n",
       "      <td>0.002770</td>\n",
       "      <td>...</td>\n",
       "      <td>0.002770</td>\n",
       "      <td>0.225422</td>\n",
       "      <td>0.456298</td>\n",
       "      <td>0.585288</td>\n",
       "      <td>0.840361</td>\n",
       "      <td>0.000000</td>\n",
       "      <td>0.351814</td>\n",
       "      <td>0.139112</td>\n",
       "      <td>music</td>\n",
       "      <td>1.0</td>\n",
       "    </tr>\n",
       "    <tr>\n",
       "      <th>3</th>\n",
       "      <td>10</td>\n",
       "      <td>pérez prado</td>\n",
       "      <td>patricia</td>\n",
       "      <td>1950</td>\n",
       "      <td>pop</td>\n",
       "      <td>kiss lips want stroll charm mambo chacha merin...</td>\n",
       "      <td>54</td>\n",
       "      <td>0.048249</td>\n",
       "      <td>0.001548</td>\n",
       "      <td>0.001548</td>\n",
       "      <td>...</td>\n",
       "      <td>0.225889</td>\n",
       "      <td>0.001548</td>\n",
       "      <td>0.686992</td>\n",
       "      <td>0.744404</td>\n",
       "      <td>0.083935</td>\n",
       "      <td>0.199393</td>\n",
       "      <td>0.775350</td>\n",
       "      <td>0.743736</td>\n",
       "      <td>romantic</td>\n",
       "      <td>1.0</td>\n",
       "    </tr>\n",
       "    <tr>\n",
       "      <th>4</th>\n",
       "      <td>12</td>\n",
       "      <td>giorgos papadopoulos</td>\n",
       "      <td>apopse eida oneiro</td>\n",
       "      <td>1950</td>\n",
       "      <td>pop</td>\n",
       "      <td>till darling till matter know till dream live ...</td>\n",
       "      <td>48</td>\n",
       "      <td>0.001350</td>\n",
       "      <td>0.001350</td>\n",
       "      <td>0.417772</td>\n",
       "      <td>...</td>\n",
       "      <td>0.068800</td>\n",
       "      <td>0.001350</td>\n",
       "      <td>0.291671</td>\n",
       "      <td>0.646489</td>\n",
       "      <td>0.975904</td>\n",
       "      <td>0.000246</td>\n",
       "      <td>0.597073</td>\n",
       "      <td>0.394375</td>\n",
       "      <td>romantic</td>\n",
       "      <td>1.0</td>\n",
       "    </tr>\n",
       "  </tbody>\n",
       "</table>\n",
       "<p>5 rows × 31 columns</p>\n",
       "</div>"
      ],
      "text/plain": [
       "   Unnamed: 0           artist_name            track_name  release_date genre  \\\n",
       "0           0                mukesh  mohabbat bhi jhoothi          1950   pop   \n",
       "1           4         frankie laine             i believe          1950   pop   \n",
       "2           6           johnnie ray                   cry          1950   pop   \n",
       "3          10           pérez prado              patricia          1950   pop   \n",
       "4          12  giorgos papadopoulos    apopse eida oneiro          1950   pop   \n",
       "\n",
       "                                              lyrics  len    dating  violence  \\\n",
       "0  hold time feel break feel untrue convince spea...   95  0.000598  0.063746   \n",
       "1  believe drop rain fall grow believe darkest ni...   51  0.035537  0.096777   \n",
       "2  sweetheart send letter goodbye secret feel bet...   24  0.002770  0.002770   \n",
       "3  kiss lips want stroll charm mambo chacha merin...   54  0.048249  0.001548   \n",
       "4  till darling till matter know till dream live ...   48  0.001350  0.001350   \n",
       "\n",
       "   world/life  ...   sadness  feelings  danceability  loudness  acousticness  \\\n",
       "0    0.000598  ...  0.380299  0.117175      0.357739  0.454119      0.997992   \n",
       "1    0.443435  ...  0.001284  0.001284      0.331745  0.647540      0.954819   \n",
       "2    0.002770  ...  0.002770  0.225422      0.456298  0.585288      0.840361   \n",
       "3    0.001548  ...  0.225889  0.001548      0.686992  0.744404      0.083935   \n",
       "4    0.417772  ...  0.068800  0.001350      0.291671  0.646489      0.975904   \n",
       "\n",
       "   instrumentalness   valence    energy       topic  age  \n",
       "0          0.901822  0.339448  0.137110     sadness  1.0  \n",
       "1          0.000002  0.325021  0.263240  world/life  1.0  \n",
       "2          0.000000  0.351814  0.139112       music  1.0  \n",
       "3          0.199393  0.775350  0.743736    romantic  1.0  \n",
       "4          0.000246  0.597073  0.394375    romantic  1.0  \n",
       "\n",
       "[5 rows x 31 columns]"
      ]
     },
     "execution_count": 25,
     "metadata": {},
     "output_type": "execute_result"
    }
   ],
   "source": [
    "data = pd.read_csv('tcc_ceds_music_2.csv')\n",
    "data.head()"
   ]
  },
  {
   "cell_type": "code",
   "execution_count": 14,
   "id": "62299c3c",
   "metadata": {},
   "outputs": [
    {
     "data": {
      "text/plain": [
       "Index(['Unnamed: 0', 'artist_name', 'track_name', 'release_date', 'genre',\n",
       "       'lyrics', 'len', 'dating', 'violence', 'world/life', 'night/time',\n",
       "       'shake the audience', 'family/gospel', 'romantic', 'communication',\n",
       "       'obscene', 'music', 'movement/places', 'light/visual perceptions',\n",
       "       'family/spiritual', 'like/girls', 'sadness', 'feelings', 'danceability',\n",
       "       'loudness', 'acousticness', 'instrumentalness', 'valence', 'energy',\n",
       "       'topic', 'age'],\n",
       "      dtype='object')"
      ]
     },
     "execution_count": 14,
     "metadata": {},
     "output_type": "execute_result"
    }
   ],
   "source": [
    "data.columns"
   ]
  },
  {
   "cell_type": "code",
   "execution_count": 15,
   "id": "5dc6684f",
   "metadata": {},
   "outputs": [
    {
     "data": {
      "text/html": [
       "<div>\n",
       "<style scoped>\n",
       "    .dataframe tbody tr th:only-of-type {\n",
       "        vertical-align: middle;\n",
       "    }\n",
       "\n",
       "    .dataframe tbody tr th {\n",
       "        vertical-align: top;\n",
       "    }\n",
       "\n",
       "    .dataframe thead th {\n",
       "        text-align: right;\n",
       "    }\n",
       "</style>\n",
       "<table border=\"1\" class=\"dataframe\">\n",
       "  <thead>\n",
       "    <tr style=\"text-align: right;\">\n",
       "      <th></th>\n",
       "      <th>artist_name</th>\n",
       "      <th>track_name</th>\n",
       "    </tr>\n",
       "  </thead>\n",
       "  <tbody>\n",
       "    <tr>\n",
       "      <th>0</th>\n",
       "      <td>mukesh</td>\n",
       "      <td>mohabbat bhi jhoothi</td>\n",
       "    </tr>\n",
       "    <tr>\n",
       "      <th>1</th>\n",
       "      <td>frankie laine</td>\n",
       "      <td>i believe</td>\n",
       "    </tr>\n",
       "    <tr>\n",
       "      <th>2</th>\n",
       "      <td>johnnie ray</td>\n",
       "      <td>cry</td>\n",
       "    </tr>\n",
       "    <tr>\n",
       "      <th>3</th>\n",
       "      <td>pérez prado</td>\n",
       "      <td>patricia</td>\n",
       "    </tr>\n",
       "    <tr>\n",
       "      <th>4</th>\n",
       "      <td>giorgos papadopoulos</td>\n",
       "      <td>apopse eida oneiro</td>\n",
       "    </tr>\n",
       "  </tbody>\n",
       "</table>\n",
       "</div>"
      ],
      "text/plain": [
       "            artist_name            track_name\n",
       "0                mukesh  mohabbat bhi jhoothi\n",
       "1         frankie laine             i believe\n",
       "2           johnnie ray                   cry\n",
       "3           pérez prado              patricia\n",
       "4  giorgos papadopoulos    apopse eida oneiro"
      ]
     },
     "execution_count": 15,
     "metadata": {},
     "output_type": "execute_result"
    }
   ],
   "source": [
    "# dropping unnecessary columns\n",
    "not_hot_songs = data.drop(columns=['Unnamed: 0', 'release_date', 'genre',\n",
    "       'lyrics', 'len', 'dating', 'violence', 'world/life', 'night/time',\n",
    "       'shake the audience', 'family/gospel', 'romantic', 'communication',\n",
    "       'obscene', 'music', 'movement/places', 'light/visual perceptions',\n",
    "       'family/spiritual', 'like/girls', 'sadness', 'feelings', 'danceability',\n",
    "       'loudness', 'acousticness', 'instrumentalness', 'valence', 'energy',\n",
    "       'topic', 'age'])\n",
    "not_hot_songs.head()"
   ]
  },
  {
   "cell_type": "code",
   "execution_count": 16,
   "id": "a0a286cc",
   "metadata": {},
   "outputs": [
    {
     "data": {
      "text/html": [
       "<div>\n",
       "<style scoped>\n",
       "    .dataframe tbody tr th:only-of-type {\n",
       "        vertical-align: middle;\n",
       "    }\n",
       "\n",
       "    .dataframe tbody tr th {\n",
       "        vertical-align: top;\n",
       "    }\n",
       "\n",
       "    .dataframe thead th {\n",
       "        text-align: right;\n",
       "    }\n",
       "</style>\n",
       "<table border=\"1\" class=\"dataframe\">\n",
       "  <thead>\n",
       "    <tr style=\"text-align: right;\">\n",
       "      <th></th>\n",
       "      <th>song_name</th>\n",
       "      <th>song_artist</th>\n",
       "    </tr>\n",
       "  </thead>\n",
       "  <tbody>\n",
       "    <tr>\n",
       "      <th>0</th>\n",
       "      <td>Anti-Hero</td>\n",
       "      <td>Taylor Swift</td>\n",
       "    </tr>\n",
       "    <tr>\n",
       "      <th>1</th>\n",
       "      <td>Lift Me Up</td>\n",
       "      <td>Rihanna</td>\n",
       "    </tr>\n",
       "    <tr>\n",
       "      <th>2</th>\n",
       "      <td>Unholy</td>\n",
       "      <td>Sam Smith &amp; Kim Petras</td>\n",
       "    </tr>\n",
       "    <tr>\n",
       "      <th>3</th>\n",
       "      <td>Bad Habit</td>\n",
       "      <td>Steve Lacy</td>\n",
       "    </tr>\n",
       "    <tr>\n",
       "      <th>4</th>\n",
       "      <td>As It Was</td>\n",
       "      <td>Harry Styles</td>\n",
       "    </tr>\n",
       "  </tbody>\n",
       "</table>\n",
       "</div>"
      ],
      "text/plain": [
       "    song_name             song_artist\n",
       "0   Anti-Hero            Taylor Swift\n",
       "1  Lift Me Up                 Rihanna\n",
       "2      Unholy  Sam Smith & Kim Petras\n",
       "3   Bad Habit              Steve Lacy\n",
       "4   As It Was            Harry Styles"
      ]
     },
     "execution_count": 16,
     "metadata": {},
     "output_type": "execute_result"
    }
   ],
   "source": [
    "# reading csv from the previous lab\n",
    "\n",
    "hot_songs = pd.read_csv('hot100.csv')\n",
    "hot_songs.head()"
   ]
  },
  {
   "cell_type": "code",
   "execution_count": 17,
   "id": "cfaecd47",
   "metadata": {},
   "outputs": [
    {
     "data": {
      "text/plain": [
       "Index(['artist_name', 'track_name'], dtype='object')"
      ]
     },
     "execution_count": 17,
     "metadata": {},
     "output_type": "execute_result"
    }
   ],
   "source": [
    "not_hot_songs.columns"
   ]
  },
  {
   "cell_type": "code",
   "execution_count": 18,
   "id": "c28ea30f",
   "metadata": {},
   "outputs": [
    {
     "data": {
      "text/plain": [
       "Index(['song_name', 'song_artist'], dtype='object')"
      ]
     },
     "execution_count": 18,
     "metadata": {},
     "output_type": "execute_result"
    }
   ],
   "source": [
    "hot_songs.columns"
   ]
  },
  {
   "cell_type": "code",
   "execution_count": 19,
   "id": "133a9d5d",
   "metadata": {},
   "outputs": [
    {
     "data": {
      "text/html": [
       "<div>\n",
       "<style scoped>\n",
       "    .dataframe tbody tr th:only-of-type {\n",
       "        vertical-align: middle;\n",
       "    }\n",
       "\n",
       "    .dataframe tbody tr th {\n",
       "        vertical-align: top;\n",
       "    }\n",
       "\n",
       "    .dataframe thead th {\n",
       "        text-align: right;\n",
       "    }\n",
       "</style>\n",
       "<table border=\"1\" class=\"dataframe\">\n",
       "  <thead>\n",
       "    <tr style=\"text-align: right;\">\n",
       "      <th></th>\n",
       "      <th>track_name</th>\n",
       "      <th>artist_name</th>\n",
       "    </tr>\n",
       "  </thead>\n",
       "  <tbody>\n",
       "    <tr>\n",
       "      <th>0</th>\n",
       "      <td>Anti-Hero</td>\n",
       "      <td>Taylor Swift</td>\n",
       "    </tr>\n",
       "    <tr>\n",
       "      <th>1</th>\n",
       "      <td>Lift Me Up</td>\n",
       "      <td>Rihanna</td>\n",
       "    </tr>\n",
       "    <tr>\n",
       "      <th>2</th>\n",
       "      <td>Unholy</td>\n",
       "      <td>Sam Smith &amp; Kim Petras</td>\n",
       "    </tr>\n",
       "    <tr>\n",
       "      <th>3</th>\n",
       "      <td>Bad Habit</td>\n",
       "      <td>Steve Lacy</td>\n",
       "    </tr>\n",
       "    <tr>\n",
       "      <th>4</th>\n",
       "      <td>As It Was</td>\n",
       "      <td>Harry Styles</td>\n",
       "    </tr>\n",
       "  </tbody>\n",
       "</table>\n",
       "</div>"
      ],
      "text/plain": [
       "   track_name             artist_name\n",
       "0   Anti-Hero            Taylor Swift\n",
       "1  Lift Me Up                 Rihanna\n",
       "2      Unholy  Sam Smith & Kim Petras\n",
       "3   Bad Habit              Steve Lacy\n",
       "4   As It Was            Harry Styles"
      ]
     },
     "execution_count": 19,
     "metadata": {},
     "output_type": "execute_result"
    }
   ],
   "source": [
    "# changing the names of the columns to make them equal\n",
    "\n",
    "hot_songs = hot_songs.rename(columns={\"song_name\": \"track_name\", \"song_artist\": \"artist_name\"})\n",
    "hot_songs.head()"
   ]
  },
  {
   "cell_type": "code",
   "execution_count": 20,
   "id": "a00aa8d1",
   "metadata": {},
   "outputs": [
    {
     "data": {
      "text/html": [
       "<div>\n",
       "<style scoped>\n",
       "    .dataframe tbody tr th:only-of-type {\n",
       "        vertical-align: middle;\n",
       "    }\n",
       "\n",
       "    .dataframe tbody tr th {\n",
       "        vertical-align: top;\n",
       "    }\n",
       "\n",
       "    .dataframe thead th {\n",
       "        text-align: right;\n",
       "    }\n",
       "</style>\n",
       "<table border=\"1\" class=\"dataframe\">\n",
       "  <thead>\n",
       "    <tr style=\"text-align: right;\">\n",
       "      <th></th>\n",
       "      <th>track_name</th>\n",
       "      <th>artist_name</th>\n",
       "    </tr>\n",
       "  </thead>\n",
       "  <tbody>\n",
       "    <tr>\n",
       "      <th>0</th>\n",
       "      <td>anti-hero</td>\n",
       "      <td>taylor swift</td>\n",
       "    </tr>\n",
       "    <tr>\n",
       "      <th>1</th>\n",
       "      <td>lift me up</td>\n",
       "      <td>rihanna</td>\n",
       "    </tr>\n",
       "    <tr>\n",
       "      <th>2</th>\n",
       "      <td>unholy</td>\n",
       "      <td>sam smith &amp; kim petras</td>\n",
       "    </tr>\n",
       "    <tr>\n",
       "      <th>3</th>\n",
       "      <td>bad habit</td>\n",
       "      <td>steve lacy</td>\n",
       "    </tr>\n",
       "    <tr>\n",
       "      <th>4</th>\n",
       "      <td>as it was</td>\n",
       "      <td>harry styles</td>\n",
       "    </tr>\n",
       "  </tbody>\n",
       "</table>\n",
       "</div>"
      ],
      "text/plain": [
       "   track_name             artist_name\n",
       "0   anti-hero            taylor swift\n",
       "1  lift me up                 rihanna\n",
       "2      unholy  sam smith & kim petras\n",
       "3   bad habit              steve lacy\n",
       "4   as it was            harry styles"
      ]
     },
     "execution_count": 20,
     "metadata": {},
     "output_type": "execute_result"
    }
   ],
   "source": [
    "hot_songs['track_name'] = hot_songs['track_name'].str.lower()\n",
    "hot_songs['artist_name'] = hot_songs['artist_name'].str.lower()\n",
    "hot_songs.head()"
   ]
  },
  {
   "cell_type": "markdown",
   "id": "a7e9ad61",
   "metadata": {},
   "source": [
    "Now we can check if we have any \"hot songs\" in the list of \"not hot songs\"."
   ]
  },
  {
   "cell_type": "code",
   "execution_count": 21,
   "id": "4bebc850",
   "metadata": {},
   "outputs": [
    {
     "name": "stdout",
     "output_type": "stream",
     "text": [
      "[]\n"
     ]
    }
   ],
   "source": [
    "check_intersection = hot_songs.merge(not_hot_songs.reset_index())['index'].tolist()\n",
    "print (check_intersection)"
   ]
  },
  {
   "cell_type": "code",
   "execution_count": 22,
   "id": "d2f6f0d6",
   "metadata": {},
   "outputs": [],
   "source": [
    "# adding addidional row to 'hot songs' just for checking\n",
    "\n",
    "# new_row = {'track_name':'mohabbat bhi jhoothi', 'artist_name': 'mukesh'}\n",
    "# hot_songs = hot_songs.append(new_row, ignore_index=True)\n",
    "# hot_songs.tail()\n",
    "# check_intersection = hot_songs.merge(not_hot_songs.reset_index())['index'].tolist()\n",
    "# print (check_intersection)"
   ]
  },
  {
   "cell_type": "markdown",
   "id": "0653029b",
   "metadata": {},
   "source": [
    "No, we don't have any intersections."
   ]
  },
  {
   "cell_type": "code",
   "execution_count": 23,
   "id": "9bbd5292",
   "metadata": {},
   "outputs": [
    {
     "data": {
      "text/html": [
       "<div>\n",
       "<style scoped>\n",
       "    .dataframe tbody tr th:only-of-type {\n",
       "        vertical-align: middle;\n",
       "    }\n",
       "\n",
       "    .dataframe tbody tr th {\n",
       "        vertical-align: top;\n",
       "    }\n",
       "\n",
       "    .dataframe thead th {\n",
       "        text-align: right;\n",
       "    }\n",
       "</style>\n",
       "<table border=\"1\" class=\"dataframe\">\n",
       "  <thead>\n",
       "    <tr style=\"text-align: right;\">\n",
       "      <th></th>\n",
       "      <th>artist_name</th>\n",
       "      <th>track_name</th>\n",
       "    </tr>\n",
       "  </thead>\n",
       "  <tbody>\n",
       "    <tr>\n",
       "      <th>19004</th>\n",
       "      <td>glenn miller</td>\n",
       "      <td>the little man who wasn't there</td>\n",
       "    </tr>\n",
       "    <tr>\n",
       "      <th>25729</th>\n",
       "      <td>misfits</td>\n",
       "      <td>american psycho</td>\n",
       "    </tr>\n",
       "    <tr>\n",
       "      <th>4826</th>\n",
       "      <td>elliott smith</td>\n",
       "      <td>somebody that i used to know</td>\n",
       "    </tr>\n",
       "    <tr>\n",
       "      <th>7082</th>\n",
       "      <td>june carter cash</td>\n",
       "      <td>juke box blues</td>\n",
       "    </tr>\n",
       "    <tr>\n",
       "      <th>18095</th>\n",
       "      <td>emerson, lake &amp; palmer</td>\n",
       "      <td>karn evil 9 1st impression, pt. 1</td>\n",
       "    </tr>\n",
       "  </tbody>\n",
       "</table>\n",
       "</div>"
      ],
      "text/plain": [
       "                  artist_name                         track_name\n",
       "19004            glenn miller    the little man who wasn't there\n",
       "25729                 misfits                    american psycho\n",
       "4826            elliott smith       somebody that i used to know\n",
       "7082         june carter cash                     juke box blues\n",
       "18095  emerson, lake & palmer  karn evil 9 1st impression, pt. 1"
      ]
     },
     "execution_count": 23,
     "metadata": {},
     "output_type": "execute_result"
    }
   ],
   "source": [
    "not_hot_songs_new = not_hot_songs.sample(4000, random_state = 1)\n",
    "# not_hot_songs.shape\n",
    "not_hot_songs_new.head()"
   ]
  },
  {
   "cell_type": "code",
   "execution_count": 24,
   "id": "baedd53f",
   "metadata": {},
   "outputs": [],
   "source": [
    "not_hot_songs_new.to_csv('not_hot_songs.csv', index=False)"
   ]
  },
  {
   "cell_type": "code",
   "execution_count": null,
   "id": "67590b3a",
   "metadata": {},
   "outputs": [],
   "source": []
  },
  {
   "cell_type": "code",
   "execution_count": null,
   "id": "80169e7e",
   "metadata": {},
   "outputs": [],
   "source": []
  }
 ],
 "metadata": {
  "kernelspec": {
   "display_name": "Python 3 (ipykernel)",
   "language": "python",
   "name": "python3"
  },
  "language_info": {
   "codemirror_mode": {
    "name": "ipython",
    "version": 3
   },
   "file_extension": ".py",
   "mimetype": "text/x-python",
   "name": "python",
   "nbconvert_exporter": "python",
   "pygments_lexer": "ipython3",
   "version": "3.9.12"
  }
 },
 "nbformat": 4,
 "nbformat_minor": 5
}
